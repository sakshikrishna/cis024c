{
 "cells": [
  {
   "cell_type": "markdown",
   "metadata": {},
   "source": [
    "\n",
    "# CIS024C - Spring 2018 - Monday 5:30-9:25pm \n",
    "\n",
    "## Homework 4\n",
    "\n",
    "Homework 4 covers exercises in basic collection objects in Python - lists, tuples and dictionaries.\n",
    "\n",
    "The below sites have some interesting and useful information on these objects.\n",
    "\n",
    "http://sthurlow.com/python/lesson06/\n",
    "https://docs.python.org/2/tutorial/datastructures.html\n",
    "\n",
    "You will need to download this notebook and use this as a starting point for your homework. You will just need to fill in the content of each code-block (cell) and execute. Once you have completed all the exercises, you will need to save and upload this to your github repository under a folder called hw4\n",
    "\n",
    "Note also the exercises build on top of one another so you might be able to do the next exercise if you have not completed the previous exercise.\n",
    "\n",
    "Post any questions you have on our Slack at **cis-024c1.slack.com**\n",
    "\n",
    "<h3><font color='red'>\n",
    "ALL THE WORK THAT WE DID IN CLASS DURING WEEK 4 IS NOW IN GITHUB AT THE BELOW LINK\n",
    "</font></h3>\n",
    "\n",
    "https://github.com/cis024c/spring2018classwork/tree/master/week4\n",
    "\n",
    "** Slides ** for Week 4 can be found at https://docs.google.com/presentation/d/1xhyxix3nF5A26qQTe1gSYJcYjUIipnz9BtZO04GvgJ4/edit?usp=sharing\n",
    "\n",
    "**Please refer back to hw1 and slack for instructions on how to setup your computer for developing using Python.**"
   ]
  },
  {
   "cell_type": "markdown",
   "metadata": {},
   "source": [
    "### Helpful Jupyter Commands\n",
    "\n",
    "Below are some useful commands to know when using Jupyter\n",
    "\n",
    "1. You can add a new cell by clicking on the \"+\" icon on top.\n",
    "2. You can delete a cell by selecting that cell and clicking on the \"scissors\" icon on top.\n",
    "3. You can execute a cell by either pressing shift+enter or selecting the \"play\" button on top.\n",
    "4. You can create a new file in Jupyter via the File menu->New Notebook option. Make sure to select Python 2 when creating your notebook.\n",
    "5. Also, for your code blocks make sure that Code is selected instead of another option like Markdown.\n",
    "6. Use the Enter key to go to the next line in a cell to enter the next statement.\n",
    "7. You can clear results by clicking on the Cell menu item and selecting Current Output->Clear or All Output->Clear depending on whether you are trying to just clear the output for one cell or for all cells.\n",
    "8. In case your program has crashed for some reason (infinite loop, for example), you can restart your Python session by select Kernel in the menu and selecting Restart.\n"
   ]
  },
  {
   "cell_type": "markdown",
   "metadata": {},
   "source": [
    "#### Check Python Version"
   ]
  },
  {
   "cell_type": "code",
   "execution_count": 1,
   "metadata": {},
   "outputs": [
    {
     "name": "stdout",
     "output_type": "stream",
     "text": [
      "Python 2.7.12 :: Continuum Analytics, Inc.\r\n"
     ]
    }
   ],
   "source": [
    "!python --version"
   ]
  },
  {
   "cell_type": "markdown",
   "metadata": {},
   "source": [
    "#### Sample Exercises with conditionals and repetitions\n",
    "\n",
    "Refer to Week 4 classwork for sample exercises - https://github.com/cis024c/spring2018classwork/tree/master/week4"
   ]
  },
  {
   "cell_type": "markdown",
   "metadata": {},
   "source": [
    "**Exercise 1 - Testing your knowledge of lists, tuples and dictionaries**\n",
    "\n",
    "Answer the below questions\n",
    "\n",
    "1. What is the main difference between a list and a tuple\n",
    "2. How does a dictionary object differ from a list."
   ]
  },
  {
   "cell_type": "markdown",
   "metadata": {},
   "source": [
    "<< LDouble click this cell and enter your result >>\n",
    "1.Lists are mutable\n",
    "  Tuples are immutable\n",
    "  \n",
    "2.Each element in a dictionary is a key-value pair while Lists are only sequence of values\n",
    "  \n",
    "  \n"
   ]
  },
  {
   "cell_type": "markdown",
   "metadata": {},
   "source": [
    "#### Exercise 2 -  Initializing a list, tuple and dictionary\n",
    "\n",
    "1. Create a list object with a set of any 10 numbers. Print the result\n",
    "2. Create a tuple object with a set of 10 numbers. Print the result\n",
    "3. Create a dictionary object with a set of 10 numbers. Print the result"
   ]
  },
  {
   "cell_type": "code",
   "execution_count": 5,
   "metadata": {},
   "outputs": [
    {
     "name": "stdout",
     "output_type": "stream",
     "text": [
      "studentAges : [13, 14, 15, 12, 14, 16, 14, 16, 17, 15]\n",
      "studentAges2 : (14, 15, 16, 17, 12, 13, 14, 15, 15, 16)\n",
      "studentAges3 : {'Id10': 15, 'Id8': 16, 'Id9': 17, 'Id6': 12, 'Id7': 15, 'Id4': 14, 'Id5': 18, 'Id2': 16, 'Id3': 17, 'Id1': 15}\n"
     ]
    }
   ],
   "source": [
    "### YOUR CODE GOES \n",
    "studentAges = [13,14,15,12,14,16,14,16,17,15]  #creating a list\n",
    "print \"studentAges :\" ,studentAges\n",
    " \n",
    "studentAges2 = (14,15,16,17,12,13,14,15,15,16)     #creating a tuple\n",
    "print \"studentAges2 :\" ,studentAges2\n",
    "\n",
    "studentAges3 = {'Id1' : 15, 'Id2' :16, 'Id3' : 17,'Id4' :14,'Id5' : 18, 'Id6' :12, 'Id7' : 15,'Id8' : 16,'Id9' :17,'Id10' :15}    #creating a dictionary\n",
    "print \"studentAges3 :\", studentAges3    # creating a dictionary\n",
    "\n",
    "### END CODE"
   ]
  },
  {
   "cell_type": "markdown",
   "metadata": {},
   "source": [
    "#### Exercise 3 - Displaying values in a list object\n",
    "\n",
    "Create a list object with 10 arbitrary numbers. Use a ** for loop ** to display every other element. \n",
    "\n",
    "**Example:**\n",
    "\n",
    "If your list has [2,3,4,5,6], then you will need to display [2,4,6]\n",
    "\n",
    "**Hint:** Make use the last step parameter in the range function to do this"
   ]
  },
  {
   "cell_type": "code",
   "execution_count": 12,
   "metadata": {},
   "outputs": [
    {
     "name": "stdout",
     "output_type": "stream",
     "text": [
      "1\n",
      "3\n",
      "5\n",
      "7\n",
      "9\n"
     ]
    }
   ],
   "source": [
    "### YOUR CODE GOES BELOW\n",
    "x = [1,2,3,4,5,6,7,8,9,10]\n",
    "for i in range(0,len(x),2):\n",
    "    print x[i]\n",
    "\n",
    "\n",
    "\n",
    "### END CODE"
   ]
  },
  {
   "cell_type": "markdown",
   "metadata": {},
   "source": [
    "#### Exercise 4 - Sorting a list of strings\n",
    "\n",
    "Ask the user to enter a list of names. Sort the names in ascending order. \n",
    "\n",
    "Hint: Use the same logic that we used in class to sort numbers. When used with strings, Python will sort the strings in alphabetical order"
   ]
  },
  {
   "cell_type": "code",
   "execution_count": 25,
   "metadata": {},
   "outputs": [
    {
     "name": "stdout",
     "output_type": "stream",
     "text": [
      "please enter some names :Harry, Voldemort, Sirius, Hermione, Snape, Ron, Draco, Dumbledore, Hagrid\n",
      "names in alphabetical order are : ['Draco', 'Dumbledore', 'Hagrid', 'Harry', 'Hermione', 'Ron', 'Sirius', 'Snape', 'Voldemort']\n"
     ]
    }
   ],
   "source": [
    "### YOUR CODE GOES BELOW\n",
    "import string\n",
    "\n",
    "nameList = raw_input(\"please enter some names :\")\n",
    "tmpList = nameList.split( \",\")\n",
    "userList = []\n",
    "for name in tmpList :\n",
    "    userList.append(name.strip())\n",
    "for i in range(0,len(userList)):\n",
    "    for j in range(i+1,len(userList)):  \n",
    "        if userList[i] > userList[j]:\n",
    "            userList[i],userList[j] = userList[j],userList[i] \n",
    "            \n",
    "print \"names in alphabetical order are :\", userList\n",
    "\n",
    "\n",
    "### END CODE"
   ]
  },
  {
   "cell_type": "markdown",
   "metadata": {},
   "source": [
    "#### Exercise 5 - Accessing values in a dictionary object\n",
    "\n",
    "Initialize a dictionary object with the below key, value pairs\n",
    "\n",
    " Key  | Value\n",
    " -----|------\n",
    "1|Harry\n",
    "2|Sally\n",
    "3|Joe\n",
    "4|Mathew\n",
    "\n",
    "Ask the user to enter a key between 1 and 4.\n",
    "\n",
    "Display the corresponding value in the dictionary\n",
    "\n",
    "\n"
   ]
  },
  {
   "cell_type": "code",
   "execution_count": 32,
   "metadata": {},
   "outputs": [
    {
     "name": "stdout",
     "output_type": "stream",
     "text": [
      "Please enter a key between 1 and 4 : 3\n",
      "Joe\n"
     ]
    }
   ],
   "source": [
    "### YOUR CODE GOES BELOW\n",
    "userNames = {1:'Harry', 2:'sally', 3 :'Joe', 4 :'Mathew'}\n",
    "userInput = input(\"Please enter a key between 1 and 4 : \")\n",
    "userNames.get(userInput)\n",
    "print userNames.get(userInput)\n",
    "### END CODE"
   ]
  },
  {
   "cell_type": "markdown",
   "metadata": {},
   "source": [
    "## OPTIONAL EXERCISES\n",
    "\n",
    "Below is a set of optional exercises. These will not be graded but the solutions will be posted. I would strongly encourage you to try these out if you are done with the mandatory homework exercises to improve your understanding of python."
   ]
  },
  {
   "cell_type": "markdown",
   "metadata": {},
   "source": [
    "#### Exercise 6\n",
    "\n",
    "Write a Python script to check if a given key already exists in a dictionary\n",
    "\n",
    "**Hint**: Use the **get** method to determine if a key exists"
   ]
  },
  {
   "cell_type": "code",
   "execution_count": 36,
   "metadata": {},
   "outputs": [
    {
     "name": "stdout",
     "output_type": "stream",
     "text": [
      "Please enter the search key : Harry\n",
      "Found key :  Harry\n"
     ]
    }
   ],
   "source": [
    "### YOUR CODE GOES BELOW\n",
    "nameList = {'Harry' :1, 'Voldemort' :2 , 'Sirius' :3, 'Hermione': 4, 'Snape' : 5}\n",
    "userInput = raw_input(\"Please enter the search key : \")\n",
    "if nameList.get(userInput) == None:\n",
    "    print \"Key is not found\"\n",
    "else:\n",
    "    print \"Found key : \" ,userInput\n",
    "### END CODE"
   ]
  },
  {
   "cell_type": "markdown",
   "metadata": {},
   "source": [
    "#### Exercise 7\n",
    "\n",
    "Write a Python script to create a dictionary that contains a sequence of numbers from 1 to n and their squares. Ask the user to enter n. Display the resulting dictionary.\n",
    "\n",
    "**Example**\n",
    "If user enters 5, then your dictionary will look like\n",
    "\n",
    "{1:1,2:4,3:9:4:16,5:25}\n",
    "\n",
    "**Hint** You will need to assign new values to the dictionary to create the dictionary object"
   ]
  },
  {
   "cell_type": "code",
   "execution_count": 38,
   "metadata": {},
   "outputs": [
    {
     "name": "stdout",
     "output_type": "stream",
     "text": [
      "Please enter a number 5\n",
      "{1: 1, 2: 4, 3: 9, 4: 16, 5: 25}\n"
     ]
    }
   ],
   "source": [
    "### YOUR CODE GOES BELOW\n",
    "n = input(\"Please enter a number \")\n",
    "myDict = {}\n",
    "for i in range(1,n+1):\n",
    "    myDict[i] = i*i\n",
    "\n",
    "    \n",
    "print myDict\n",
    "\n",
    "### END CODE"
   ]
  },
  {
   "cell_type": "markdown",
   "metadata": {},
   "source": [
    "#### Exercise 8\n",
    "\n",
    "Refer to Exercise 7 for this problem.\n",
    "\n",
    "Write a python program to sum all the values in the above dictionary (n:n^2). Display the resulting sum\n"
   ]
  },
  {
   "cell_type": "code",
   "execution_count": 41,
   "metadata": {},
   "outputs": [
    {
     "name": "stdout",
     "output_type": "stream",
     "text": [
      "Please enter a number 6\n",
      "91\n"
     ]
    }
   ],
   "source": [
    "### YOUR CODE GOES BELOW\n",
    "n = input(\"Please enter a number \")\n",
    "myDict = {}\n",
    "for i in range(1,n+1):\n",
    "    myDict[i] = i*i\n",
    "    \n",
    "valueList = myDict.values()\n",
    "valueSum = 0\n",
    "for value in valueList :\n",
    "    valueSum += value\n",
    "print valueSum\n",
    "### END CODE"
   ]
  },
  {
   "cell_type": "markdown",
   "metadata": {},
   "source": [
    "#### Exercise 9\n",
    "\n",
    "Write a Python program to sort the below dictionary by key in descending order. \n",
    "\n",
    " {2:\"Mary\",1:\"Sally\",5:\"Harry\",4:\"Joe\"}\n",
    " \n",
    "**Hint:** Refer to the class example"
   ]
  },
  {
   "cell_type": "code",
   "execution_count": 45,
   "metadata": {},
   "outputs": [
    {
     "name": "stdout",
     "output_type": "stream",
     "text": [
      "5 : Harry\n",
      "4 : Joe\n",
      "2 : Mary\n",
      "1 : Sally\n"
     ]
    }
   ],
   "source": [
    "### YOUR CODE GOES BELOW\n",
    "myDict = {2:\"Mary\",1:\"Sally\",5:\"Harry\",4:\"Joe\"}\n",
    "keyList = myDict.keys( )\n",
    "for i in range( 0,len(keyList)):\n",
    "    for j in range (i+1, len(keyList)):\n",
    "        if  keyList[i] < keyList[j]:\n",
    "            keyList[i],keyList[j]= keyList[j], keyList[i]\n",
    "\n",
    "for key in keyList:\n",
    "    print \"%d : %s\" % (key, myDict[key])\n",
    "\n",
    "\n",
    "    \n",
    "### END CODE"
   ]
  },
  {
   "cell_type": "markdown",
   "metadata": {},
   "source": [
    "#### Exercise 10\n",
    "\n",
    "Write a python program to combine the below two dictionaries and display the resulting dictionary\n",
    "\n",
    "* Dictionary 1:  {2:\"Mary\",1:\"Sally\",5:\"Harry\",4:\"Joe\"}\n",
    "* Dictionary 2:  {6:\"John\",9:\"Nancy\",12:\"Peter\",8:\"Alice\"}\n",
    " "
   ]
  },
  {
   "cell_type": "code",
   "execution_count": 46,
   "metadata": {},
   "outputs": [
    {
     "name": "stdout",
     "output_type": "stream",
     "text": [
      "{1: 'Sally', 2: 'Mary', 4: 'Joe', 5: 'Harry', 6: 'John', 8: 'Alice', 9: 'Nancy', 12: 'Peter'}\n"
     ]
    }
   ],
   "source": [
    "### YOUR CODE GOES BELOW\n",
    "dict1 = {2:\"Mary\",1:\"Sally\",5:\"Harry\",4:\"Joe\"}\n",
    "dict2 = {6:\"John\",9:\"Nancy\",12:\"Peter\",8:\"Alice\"}\n",
    "dict1.update(dict2)\n",
    "print dict1\n",
    "\n",
    "\n",
    "### END CODE"
   ]
  },
  {
   "cell_type": "code",
   "execution_count": null,
   "metadata": {
    "collapsed": true
   },
   "outputs": [],
   "source": []
  }
 ],
 "metadata": {
  "kernelspec": {
   "display_name": "Python 2",
   "language": "python",
   "name": "python2"
  },
  "language_info": {
   "codemirror_mode": {
    "name": "ipython",
    "version": 2
   },
   "file_extension": ".py",
   "mimetype": "text/x-python",
   "name": "python",
   "nbconvert_exporter": "python",
   "pygments_lexer": "ipython2",
   "version": "2.7.14"
  }
 },
 "nbformat": 4,
 "nbformat_minor": 2
}
