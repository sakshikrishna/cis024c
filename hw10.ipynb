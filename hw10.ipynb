{
 "cells": [
  {
   "cell_type": "markdown",
   "metadata": {},
   "source": [
    "\n",
    "# CIS024C - Spring 2018 - Monday 5:30-9:25pm \n",
    "\n",
    "## Homework 10\n",
    "\n",
    "Homework 10 covers object oriented programming in Python\n",
    "\n",
    "The below sites have some interesting and useful information on working with files\n",
    "\n",
    "https://drive.google.com/open?id=1OrcpXEmhvgcJxSlchIBsvmXST0lG_uKx\n",
    "http://www.tutorialspoint.com/python/python_classes_objects.htm\n",
    "\n",
    "You will need to download this notebook and use this as a starting point for your homework. You will just need to fill in the content of each code-block (cell) and execute. Once you have completed all the exercises, you will need to save and upload this to your github repository under a folder called hw10.\n",
    "\n",
    "Note also the exercises build on top of one another so you might be able to do the next exercise if you have not completed the previous exercise.\n",
    "\n",
    "Post any questions you have on our Slack at **cis-024c1.slack.com**\n",
    "\n",
    "** Slides ** for Week 10 can be found at \n",
    "\n",
    "https://docs.google.com/presentation/d/1AigvCKV1yb3PrrcT5xt3IqyAwGpv6IKMNWYUiQ2Oy6k/edit?usp=sharing\n",
    "\n",
    "**Please refer back to hw1 and slack for instructions on how to setup your computer for developing using Python.**"
   ]
  },
  {
   "cell_type": "markdown",
   "metadata": {},
   "source": [
    "### Helpful Jupyter Commands\n",
    "\n",
    "Below are some useful commands to know when using Jupyter\n",
    "\n",
    "1. You can add a new cell by clicking on the \"+\" icon on top.\n",
    "2. You can delete a cell by selecting that cell and clicking on the \"scissors\" icon on top.\n",
    "3. You can execute a cell by either pressing shift+enter or selecting the \"play\" button on top.\n",
    "4. You can create a new file in Jupyter via the File menu->New Notebook option. Make sure to select Python 2 when creating your notebook.\n",
    "5. Also, for your code blocks make sure that Code is selected instead of another option like Markdown.\n",
    "6. Use the Enter key to go to the next line in a cell to enter the next statement.\n",
    "7. You can clear results by clicking on the Cell menu item and selecting Current Output->Clear or All Output->Clear depending on whether you are trying to just clear the output for one cell or for all cells.\n",
    "8. In case your program has crashed for some reason (infinite loop, for example), you can restart your Python session by select Kernel in the menu and selecting Restart.\n"
   ]
  },
  {
   "cell_type": "markdown",
   "metadata": {},
   "source": [
    "#### Check Python Version"
   ]
  },
  {
   "cell_type": "code",
   "execution_count": null,
   "metadata": {},
   "outputs": [],
   "source": [
    "!python --version"
   ]
  },
  {
   "cell_type": "markdown",
   "metadata": {},
   "source": [
    "#### Sample Exercises with Exception Handling\n",
    "\n",
    "Week 10 Class Work can be found here\n",
    "\n",
    "https://github.com/cis024c/spring2018classwork/blob/master/week10/classwork_04162018.ipynb"
   ]
  },
  {
   "cell_type": "markdown",
   "metadata": {},
   "source": [
    "**Exercise 1 - Testing your knowledge of object oriented programming concepts **\n",
    "\n",
    "Answer the below questions\n",
    "\n",
    "1. Why do we need classes?\n",
    "2. What is encapsulation?"
   ]
  },
  {
   "cell_type": "markdown",
   "metadata": {},
   "source": [
    "1. Classes are mechanisms to define the common attributes and procedures related to a category of real world entity\n",
    "   They help to define the data or attributes and the procedures in relation to each other, thus providing a better\n",
    "   modularity of design. In addition, they can be used to define relationships between various classes themselves.\n",
    "2. The properties that are defined by the class are part of each object of the class. This bundling of the data along      with procedures and also protecting it is encapsulation. This mechanism is very useful for moduler designs as if\n",
    "   provides an extra protection to data along with more sophesticated data - procedure bundeling."
   ]
  },
  {
   "cell_type": "markdown",
   "metadata": {},
   "source": [
    "** Exercise 2 - Class creation **\n",
    "\n",
    "Create a Python class named **Employee** with the following attributes and methods\n",
    "\n",
    "Data members\n",
    "```\n",
    "1. employeeName  - type string\n",
    "2. employeeAge  - type int\n",
    "3. employeeSalary - type float\n",
    "```\n",
    "\n",
    "Methods:\n",
    "```\n",
    "1. getEmployee - returns employee name\n",
    "2. getEmployeeAge - gets the employee age\n",
    "3. getEmployeeSalary - returns the employee salary\n",
    "4. __init__ - initialize method accepts the name, age and salary of the employee\n",
    "```\n",
    "\n",
    "Create an object of type Employee and initialize with arbitrary values. Invoke the get methods and display the result."
   ]
  },
  {
   "cell_type": "code",
   "execution_count": 5,
   "metadata": {},
   "outputs": [
    {
     "name": "stdout",
     "output_type": "stream",
     "text": [
      "Employee 1 is  Sakshi\n",
      "Employee 2 is  Samarth\n"
     ]
    }
   ],
   "source": [
    "### YOUR CODE GOES BELOW\n",
    "\n",
    "class Employee:\n",
    "    def __init__(self, name, age, salary):\n",
    "        self.employeeName = \"\"\n",
    "        self.employeeAge = 0\n",
    "        self.employeeSalary = 0.0\n",
    "        self.employeeName = name\n",
    "        self.employeeAge = age\n",
    "        self.employeeSalary = salary  \n",
    " \n",
    "    def  getEmployee(self):        \n",
    "        return(self.employeeName)\n",
    "\n",
    "    def getEmployeeAge(self):\n",
    "        return (self.employeeAge)\n",
    "        \n",
    "    def getEmplyeeSalary(self):\n",
    "        return (self.employeeSalary)\n",
    "    \n",
    "emp1 = Employee(\"Sakshi\", 35, 100000)\n",
    "emp2 = Employee(\"Samarth\", 38, 120000)\n",
    "print \"Employee 1 is \", emp1.getEmployee()\n",
    "print \"Employee 2 is \", emp2.getEmployee()\n",
    "### END CODE"
   ]
  },
  {
   "cell_type": "markdown",
   "metadata": {},
   "source": [
    "#### Exercise 3 - Private members\n",
    "\n",
    "In the above **Employee** class make the employeeName, employeeAge and employeeSalary private so that their access is restricted to only within the class."
   ]
  },
  {
   "cell_type": "code",
   "execution_count": 6,
   "metadata": {},
   "outputs": [
    {
     "name": "stdout",
     "output_type": "stream",
     "text": [
      "Employee 1 is  Sakshi\n",
      "Employee 2 is  Samarth\n"
     ]
    }
   ],
   "source": [
    "### YOUR CODE GOES BELOW\n",
    "class Employee:\n",
    "    def __init__(self, name, age, salary):\n",
    "        self.__employeeName = \"\"\n",
    "        self.__employeeAge = 0\n",
    "        self.__employeeSalary = 0.0\n",
    "        self.__employeeName = name\n",
    "        self.__employeeAge = age\n",
    "        self.__employeeSalary = salary  \n",
    " \n",
    "    def  getEmployee(self):        \n",
    "        return(self.__employeeName)\n",
    "\n",
    "    def getEmployeeAge(self):\n",
    "        return (self.__employeeAge)\n",
    "        \n",
    "    def getEmplyeeSalary(self):\n",
    "        return (self.__employeeSalary)\n",
    "    \n",
    "emp1 = Employee(\"Sakshi\", 35, 100000)\n",
    "emp2 = Employee(\"Samarth\", 38, 120000)\n",
    "print \"Employee 1 is \", emp1.getEmployee()\n",
    "print \"Employee 2 is \", emp2.getEmployee()\n",
    "### END CODE"
   ]
  },
  {
   "cell_type": "markdown",
   "metadata": {},
   "source": [
    "#### Exercise 4 - Adding setters and working with a list of Employees\n",
    "\n",
    "In the **Employee** class add the following methods\n",
    "\n",
    "```\n",
    "1. setEmployeeAge - accepts age and sets it in the object\n",
    "2. setEmployeeName - accepts employee name and sets it in the object\n",
    "3. setEmployeeSalary - accepts employee salary and sets it i nthe object\n",
    "```\n",
    "\n",
    "Create a list of employees called employeeList. Initialize the list with three objects of type Employee. Initialize the object with the values \"None\" for employeeName, 0 for employeeAge and 0 for employeeSalary.\n",
    "\n",
    "Loop  through each employee in the employeeList. Each time, request the user to enter the name, age and salary of a different employee. Use the set methods to set the name, age and salary for each employee in the employeeList.\n",
    "\n",
    "Loop through each employee in the employeeList. Display the name, age and salary of each employee."
   ]
  },
  {
   "cell_type": "code",
   "execution_count": 11,
   "metadata": {},
   "outputs": [
    {
     "name": "stdout",
     "output_type": "stream",
     "text": [
      "Please enter the employee name : Sakshi\n",
      "Please enter the employee age : 40\n",
      "Please enter the employee salary : 150000\n",
      "Please enter the employee name : Saksham\n",
      "Please enter the employee age : 25\n",
      "Please enter the employee salary : 100000\n",
      "Please enter the employee name : Samarth\n",
      "Please enter the employee age : 23\n",
      "Please enter the employee salary : 80000\n",
      "Employee Name :  Sakshi\n",
      "Employee Age :  40\n",
      "Employee Salary :  150000\n",
      "Employee Name :  Saksham\n",
      "Employee Age :  25\n",
      "Employee Salary :  100000\n",
      "Employee Name :  Samarth\n",
      "Employee Age :  23\n",
      "Employee Salary :  80000\n"
     ]
    }
   ],
   "source": [
    "### YOUR CODE GOES BELOW\n",
    "class Employee:\n",
    "    def __init__(self, name, age, salary):\n",
    "        self.__employeeName = \"\"\n",
    "        self.__employeeAge = 0\n",
    "        self.__employeeSalary = 0.0\n",
    "        self.__employeeName = name\n",
    "        self.__employeeAge = age\n",
    "        self.__employeeSalary = salary  \n",
    " \n",
    "    def  getEmployee(self):        \n",
    "        return(self.__employeeName)\n",
    "    \n",
    "    def  setEmployee(self, name):        \n",
    "        self.__employeeName = name\n",
    "    \n",
    "    def getEmployeeAge(self):\n",
    "        return (self.__employeeAge)\n",
    "    \n",
    "    def setEmployeeAge(self, age):\n",
    "        self.__employeeAge = age\n",
    "        \n",
    "    def getEmplyeeSalary(self):\n",
    "        return (self.__employeeSalary)\n",
    "\n",
    "    def setEmplyeeSalary(self, salary):\n",
    "        self.__employeeSalary = salary\n",
    "        \n",
    "    def inputEmployee(self):\n",
    "        self.__employeeName = raw_input(\"Please enter the employee name : \")\n",
    "        self.__employeeAge = input(\"Please enter the employee age : \")\n",
    "        self.__employeeSalary = input(\"Please enter the employee salary : \")\n",
    "    \n",
    "    def printEmployee(self):\n",
    "        print \"Employee Name : \", self.__employeeName\n",
    "        print \"Employee Age : \", self.__employeeAge\n",
    "        print \"Employee Salary : \", self.__employeeSalary\n",
    "    \n",
    "employeeList = [Employee(None, 0, 0.0), Employee(None, 0, 0.0), Employee(None, 0, 0.0)]\n",
    "for currEmp in employeeList :\n",
    "    currEmp.inputEmployee()\n",
    "\n",
    "for currEmp in employeeList :\n",
    "    currEmp.printEmployee()\n",
    "\n",
    "\n",
    "### END CODE"
   ]
  },
  {
   "cell_type": "markdown",
   "metadata": {},
   "source": [
    "#### Exercise 5 -  Creating a Python calculator class\n",
    "\n",
    "Create a Python class called Calculator. \n",
    "\n",
    "The class has the following data members\n",
    "\n",
    "```\n",
    "1. number1 - type float\n",
    "2. number2 - type float\n",
    "```\n",
    "\n",
    "The class must have the below methods\n",
    "\n",
    "```\n",
    "1. add - adds two numbers and returns the result\n",
    "2. subtract - subtracts the first number from the second number and returns the result\n",
    "3. multiply - multiply two numbers and returns the result\n",
    "4. divide - divide the first number by the second number and returns the result\n",
    "5. __init__ - accepts two numbers and uses those numbers to initialize number1 and number2 respectively\n",
    "```\n",
    "\n",
    "Create an object of the Calculator class. Initialize it with any two arbitrary numbers. Invoke the methods add, subtract, multiple and divide and display the result\n",
    "\n",
    "\n"
   ]
  },
  {
   "cell_type": "code",
   "execution_count": 14,
   "metadata": {},
   "outputs": [
    {
     "name": "stdout",
     "output_type": "stream",
     "text": [
      "Initialized myCalc with 34.0 and 43.25\n",
      "Add returned :  77.25\n",
      "Subtract returned :  9.25\n",
      "Multiply returned :  1470.5\n",
      "Divide returned :  0.78612716763\n"
     ]
    }
   ],
   "source": [
    "### YOUR CODE GOES \n",
    "\n",
    "class Calculator :\n",
    "    def __init__(self,number1,number2):\n",
    "        self.number1 = 0.0\n",
    "        self.number2 = 0.0\n",
    "        self.number1 = number1\n",
    "        self.number2 = number2\n",
    "        \n",
    "    def add(self):\n",
    "        return (self.number1 + self.number2)\n",
    "    \n",
    "    def subtract(self):\n",
    "        return (self.number2 - self.number1)\n",
    "        \n",
    "    def multiply(self):\n",
    "        return (self.number1 * self.number2)\n",
    "    \n",
    "    def divide(self):\n",
    "        return (self.number1 / self.number2)\n",
    "\n",
    "myCalc = Calculator(34.0, 43.25)\n",
    "print \"Initialized myCalc with 34.0 and 43.25\"\n",
    "print \"Add returned : \", myCalc.add()\n",
    "print \"Subtract returned : \", myCalc.subtract()\n",
    "print \"Multiply returned : \", myCalc.multiply()\n",
    "print \"Divide returned : \", myCalc.divide()\n",
    "\n",
    "### END CODE"
   ]
  },
  {
   "cell_type": "markdown",
   "metadata": {},
   "source": [
    "# Optional Exercise"
   ]
  },
  {
   "cell_type": "markdown",
   "metadata": {},
   "source": [
    "#### Exercise 6"
   ]
  },
  {
   "cell_type": "markdown",
   "metadata": {
    "collapsed": true
   },
   "source": [
    "In the next two problems, you’ll be building an address book using object-­‐oriented programming in Python. To begin, you’ll define a Person class. You’ll use this class in the next problem to build your address book – each entry in your address book will be an instance of the Person class.\n",
    "\n",
    "To begin, define the    init    and    str    methods for the Person class. Read the Python documentation if needed to help you understand what    init__ and    str \t need to do.\n",
    "\n",
    "Here’s an example interaction in the Python shell demonstrating how your class should work after implementing these two methods:"
   ]
  },
  {
   "cell_type": "raw",
   "metadata": {},
   "source": [
    "Emily = Person(“Zhang”, “Emily”, “5559358150”, “emzhang@mit.edu”)\n",
    "print Emily\n",
    "Zhang, Emily -- Phone Number: 5559358150 -- Email Address(es): emzhang@mit.edu\n",
    "Wesley = Person(“Graybill”, “Wesley”, “5551940325”, [‘wgray496@mit.edu’, ‘wdgraybill@gmail.com’])\n",
    "print Wesley\n",
    "Graybill, Wesley -- Phone Number: 5551940325 -- Email Address(es): wgray496@mit.edu, wdgraybill@gmail.com"
   ]
  },
  {
   "cell_type": "code",
   "execution_count": null,
   "metadata": {
    "collapsed": true
   },
   "outputs": [],
   "source": [
    "### YOUR CODE GOES \n",
    "\n",
    "\n",
    "### END CODE"
   ]
  },
  {
   "cell_type": "markdown",
   "metadata": {},
   "source": [
    "#### Exercise 7"
   ]
  },
  {
   "cell_type": "markdown",
   "metadata": {},
   "source": [
    "In this problem, you will use your Person class from the previous problem to create an address book for storing the contacts of your friends and family. It should allow you to search the address book for a friend, and return their contact information.\n",
    "\n",
    "Begin by defining an   init   method. Don’t forget about Python's built-­‐in dictionary data type.\n",
    "\n",
    "Next, write a method add_contact that allows you to add a new person to the address book.\n",
    "\n",
    "Finally, write a method lookup_contact that looks up a contact by last name. The method should accept the last name as an argument, and print each contact that matches the last name on a new line. As an additional challenge, extend this method to allow users to optionally specify a first name to narrow down the results when multiple contacts have the same last name. To learn more about optional arguments in Python, search for terms such as “optional arguments in Python” and “default arguments in Python”.\n",
    "\n",
    "For example, suppose the contact book contains entries for both Ali Kamil, and his wife Sama Kamil. The following is an example output:\n"
   ]
  },
  {
   "cell_type": "raw",
   "metadata": {},
   "source": [
    ">>> a = AddressBook()\n",
    ">>> a.add_person(Person(“Kamil”, “Ali”, … ))\n",
    ">>> a.add_person(Person(“Kamil”, “Sama”, … ))\n",
    ">>> a.lookup_contact(“Kamil”) Kamil, Ali -- Phone Number: … Kamil, Sama -- Phone Number: …\n",
    ">>> a.lookup_contact(“Kamil”, “Ali”)\n",
    "Kamil, Ali -- Phone Number: …\n"
   ]
  },
  {
   "cell_type": "code",
   "execution_count": 6,
   "metadata": {
    "collapsed": true
   },
   "outputs": [],
   "source": [
    "### YOUR CODE GOES \n",
    "\n",
    "\n",
    "### END CODE"
   ]
  },
  {
   "cell_type": "code",
   "execution_count": null,
   "metadata": {
    "collapsed": true
   },
   "outputs": [],
   "source": []
  }
 ],
 "metadata": {
  "kernelspec": {
   "display_name": "Python 2",
   "language": "python",
   "name": "python2"
  },
  "language_info": {
   "codemirror_mode": {
    "name": "ipython",
    "version": 2
   },
   "file_extension": ".py",
   "mimetype": "text/x-python",
   "name": "python",
   "nbconvert_exporter": "python",
   "pygments_lexer": "ipython2",
   "version": "2.7.14"
  }
 },
 "nbformat": 4,
 "nbformat_minor": 2
}
